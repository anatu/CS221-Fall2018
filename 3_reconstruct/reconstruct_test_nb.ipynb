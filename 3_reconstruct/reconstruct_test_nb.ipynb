{
 "cells": [
  {
   "cell_type": "code",
   "execution_count": null,
   "metadata": {
    "collapsed": true
   },
   "outputs": [],
   "source": [
    "#######################################################\n",
    "#######################################################\n",
    "#######################################################\n",
    "#### PROBLEM 1\n",
    "#######################################################\n",
    "#######################################################\n",
    "#######################################################"
   ]
  },
  {
   "cell_type": "code",
   "execution_count": 1,
   "metadata": {
    "collapsed": true
   },
   "outputs": [],
   "source": [
    "############################################################\n",
    "# Uniform cost search algorithm (Dijkstra's algorithm).\n",
    "\n",
    "############################################################\n",
    "# Abstract interfaces for search problems and search algorithms.\n",
    "import heapq, collections, re, sys, time, os, random\n",
    "\n",
    "class SearchProblem:\n",
    "    # Return the start state.\n",
    "    def startState(self): raise NotImplementedError(\"Override me\")\n",
    "\n",
    "    # Return whether |state| is an end state or not.\n",
    "    def isEnd(self, state): raise NotImplementedError(\"Override me\")\n",
    "\n",
    "    # Return a list of (action, newState, cost) tuples corresponding to edges\n",
    "    # coming out of |state|.\n",
    "    def succAndCost(self, state): raise NotImplementedError(\"Override me\")\n",
    "\n",
    "class SearchAlgorithm:\n",
    "    # First, call solve on the desired SearchProblem |problem|.\n",
    "    # Then it should set two things:\n",
    "    # - self.actions: list of actions that takes one from the start state to an end\n",
    "    #                 state; if no action sequence exists, set it to None.\n",
    "    # - self.totalCost: the sum of the costs along the path or None if no valid\n",
    "    #                   action sequence exists.\n",
    "    def solve(self, problem): raise NotImplementedError(\"Override me\")\n",
    "        \n",
    "        \n",
    "class UniformCostSearch(SearchAlgorithm):\n",
    "    def __init__(self, verbose):\n",
    "        self.verbose = verbose\n",
    "\n",
    "    def solve(self, problem):\n",
    "        # If a path exists, set |actions| and |totalCost| accordingly.\n",
    "        # Otherwise, leave them as None.\n",
    "        self.actions = None\n",
    "        self.totalCost = None\n",
    "        self.numStatesExplored = 0\n",
    "\n",
    "        # Initialize data structures\n",
    "        frontier = PriorityQueue()  # Explored states are maintained by the frontier.\n",
    "        backpointers = {}  # map state to (action, previous state)\n",
    "\n",
    "        # Add the start state\n",
    "        startState = problem.startState()\n",
    "        frontier.update(startState, 0)\n",
    "\n",
    "        while True:\n",
    "            # Remove the state from the queue with the lowest pastCost\n",
    "            # (priority).\n",
    "            state, pastCost = frontier.removeMin()\n",
    "            if state == None: break\n",
    "            self.numStatesExplored += 1\n",
    "            if self.verbose >= 2:\n",
    "                print \"Exploring %s with pastCost %s\" % (state, pastCost)\n",
    "\n",
    "            # Check if we've reached an end state; if so, extract solution.\n",
    "            if problem.isEnd(state):\n",
    "                self.actions = []\n",
    "                while state != startState:\n",
    "                    action, prevState = backpointers[state]\n",
    "                    self.actions.append(action)\n",
    "                    state = prevState\n",
    "                self.actions.reverse()\n",
    "                self.totalCost = pastCost\n",
    "                if self.verbose >= 1:\n",
    "                    print \"numStatesExplored = %d\" % self.numStatesExplored\n",
    "                    print \"totalCost = %s\" % self.totalCost\n",
    "                    print \"actions = %s\" % self.actions\n",
    "                return\n",
    "\n",
    "            # Expand from |state| to new successor states,\n",
    "            # updating the frontier with each newState.\n",
    "            for action, newState, cost in problem.succAndCost(state):\n",
    "                if self.verbose >= 3:\n",
    "                    print \"  Action %s => %s with cost %s + %s\" % (action, newState, pastCost, cost)\n",
    "                if frontier.update(newState, pastCost + cost):\n",
    "                    # Found better way to go to |newState|, update backpointer.\n",
    "                    backpointers[newState] = (action, state)\n",
    "        if self.verbose >= 1:\n",
    "            print \"No path found\"\n",
    "\n",
    "# Data structure for supporting uniform cost search.\n",
    "class PriorityQueue:\n",
    "    def  __init__(self):\n",
    "        self.DONE = -100000\n",
    "        self.heap = []\n",
    "        self.priorities = {}  # Map from state to priority\n",
    "\n",
    "    # Insert |state| into the heap with priority |newPriority| if\n",
    "    # |state| isn't in the heap or |newPriority| is smaller than the existing\n",
    "    # priority.\n",
    "    # Return whether the priority queue was updated.\n",
    "    def update(self, state, newPriority):\n",
    "        oldPriority = self.priorities.get(state)\n",
    "        if oldPriority == None or newPriority < oldPriority:\n",
    "            self.priorities[state] = newPriority\n",
    "            heapq.heappush(self.heap, (newPriority, state))\n",
    "            return True\n",
    "        return False\n",
    "\n",
    "    # Returns (state with minimum priority, priority)\n",
    "    # or (None, None) if the priority queue is empty.\n",
    "    def removeMin(self):\n",
    "        while len(self.heap) > 0:\n",
    "            priority, state = heapq.heappop(self.heap)\n",
    "            if self.priorities[state] == self.DONE: continue  # Outdated priority, skip\n",
    "            self.priorities[state] = self.DONE\n",
    "            return (state, priority)\n",
    "        return (None, None) # Nothing left...\n"
   ]
  },
  {
   "cell_type": "code",
   "execution_count": 3,
   "metadata": {
    "collapsed": true
   },
   "outputs": [],
   "source": [
    "def unigramCost(x):\n",
    "    if x in ['and', 'two', 'three', 'word', 'words']:\n",
    "        return 1.0\n",
    "    else:\n",
    "        return 1000.0"
   ]
  },
  {
   "cell_type": "code",
   "execution_count": 3,
   "metadata": {},
   "outputs": [
    {
     "ename": "NameError",
     "evalue": "name 'SearchProblem' is not defined",
     "output_type": "error",
     "traceback": [
      "\u001b[1;31m---------------------------------------------------------------------------\u001b[0m",
      "\u001b[1;31mNameError\u001b[0m                                 Traceback (most recent call last)",
      "\u001b[1;32m<ipython-input-3-6a0aa6b2414d>\u001b[0m in \u001b[0;36m<module>\u001b[1;34m()\u001b[0m\n\u001b[0;32m      7\u001b[0m \u001b[1;31m# Query is a string\u001b[0m\u001b[1;33m\u001b[0m\u001b[1;33m\u001b[0m\u001b[0m\n\u001b[0;32m      8\u001b[0m \u001b[1;31m# unigramCost is the cost function\u001b[0m\u001b[1;33m\u001b[0m\u001b[1;33m\u001b[0m\u001b[0m\n\u001b[1;32m----> 9\u001b[1;33m \u001b[1;32mclass\u001b[0m \u001b[0mSegmentationProblem\u001b[0m\u001b[1;33m(\u001b[0m\u001b[0mSearchProblem\u001b[0m\u001b[1;33m)\u001b[0m\u001b[1;33m:\u001b[0m\u001b[1;33m\u001b[0m\u001b[0m\n\u001b[0m\u001b[0;32m     10\u001b[0m     \u001b[1;32mdef\u001b[0m \u001b[0m__init__\u001b[0m\u001b[1;33m(\u001b[0m\u001b[0mself\u001b[0m\u001b[1;33m,\u001b[0m \u001b[0mquery\u001b[0m\u001b[1;33m,\u001b[0m \u001b[0munigramCost\u001b[0m\u001b[1;33m)\u001b[0m\u001b[1;33m:\u001b[0m\u001b[1;33m\u001b[0m\u001b[0m\n\u001b[0;32m     11\u001b[0m         \u001b[0mself\u001b[0m\u001b[1;33m.\u001b[0m\u001b[0mquery\u001b[0m \u001b[1;33m=\u001b[0m \u001b[0mquery\u001b[0m\u001b[1;33m\u001b[0m\u001b[0m\n",
      "\u001b[1;31mNameError\u001b[0m: name 'SearchProblem' is not defined"
     ]
    }
   ],
   "source": [
    "############################################################\n",
    "# Problem 1b: Solve the segmentation problem under a unigram model\n",
    "\n",
    "# Define the problem which will be passed as \"problem\"\n",
    "# argument into UniformCostSearch via the segmentWords function below\n",
    "# (see util.py for UCS implementation) \n",
    "# Query is a string\n",
    "# unigramCost is the cost function\n",
    "class SegmentationProblem(SearchProblem):\n",
    "    def __init__(self, query, unigramCost):\n",
    "        self.query = query\n",
    "        self.unigramCost = unigramCost\n",
    "\n",
    "    # Define the start state (e.g. for tram, it's start at position 1)\n",
    "    def startState(self):\n",
    "        # BEGIN_YOUR_CODE (our solution is 3 lines of code, but don't worry if you deviate from this)\n",
    "        return self.query\n",
    "        # END_YOUR_CODE\n",
    "\n",
    "    # Return a boolean expression stating whether the end state has been reached\n",
    "    def isEnd(self, state):\n",
    "        # BEGIN_YOUR_CODE (our solution is 4 lines of code, but don't worry if you deviate from this)\n",
    "        return len(state) == 0\n",
    "        # END_YOUR_CODE\n",
    "\n",
    "    # Return a set of tuples which describe successive actions that can be taken along with the cost \n",
    "    # of each action\n",
    "    def succAndCost(self, state):\n",
    "        # BEGIN_YOUR_CODE (our solution is 12 lines of code, but don't worry if you deviate from this)\n",
    "        result = []\n",
    "        segments = [state[0:j] for j in range(1,len(state)+1)]\n",
    "        for segment in segments:\n",
    "            result.append((segment, state.replace(segment, \"\", 1), self.unigramCost(segment)))\n",
    "        return result\n",
    "        # END_YOUR_CODE\n",
    "\n",
    "def segmentWords(query, unigramCost):\n",
    "    if len(query) == 0:\n",
    "        return ''\n",
    "\n",
    "    ucs = UniformCostSearch(verbose=2)\n",
    "    ucs.solve(SegmentationProblem(query, unigramCost))\n",
    "    \n",
    "    # BEGIN_YOUR_CODE (our solution is 10 lines of code, but don't worry if you deviate from this)\n",
    "    result = \" \".join(ucs.actions)\n",
    "    return result\n",
    "    # END_YOUR_CODE\n"
   ]
  },
  {
   "cell_type": "code",
   "execution_count": 5,
   "metadata": {},
   "outputs": [
    {
     "name": "stdout",
     "output_type": "stream",
     "text": [
      "Exploring word with pastCost 0\n",
      "Exploring  with pastCost 1.0\n",
      "numStatesExplored = 2\n",
      "totalCost = 1.0\n",
      "actions = ['word']\n",
      "Exploring twowords with pastCost 0\n",
      "Exploring words with pastCost 1.0\n",
      "Exploring  with pastCost 2.0\n",
      "numStatesExplored = 3\n",
      "totalCost = 2.0\n",
      "actions = ['two', 'words']\n",
      "Exploring andthreewords with pastCost 0\n",
      "Exploring threewords with pastCost 1.0\n",
      "Exploring words with pastCost 2.0\n",
      "Exploring  with pastCost 3.0\n",
      "numStatesExplored = 4\n",
      "totalCost = 3.0\n",
      "actions = ['and', 'three', 'words']\n"
     ]
    },
    {
     "data": {
      "text/plain": [
       "'and three words'"
      ]
     },
     "execution_count": 5,
     "metadata": {},
     "output_type": "execute_result"
    }
   ],
   "source": [
    "# PROBLEM 1 - TEST CASES FROM GRADER.PY\n",
    "segmentWords('', unigramCost)\n",
    "segmentWords('word', unigramCost)\n",
    "segmentWords('twowords', unigramCost)\n",
    "segmentWords('andthreewords', unigramCost)"
   ]
  },
  {
   "cell_type": "code",
   "execution_count": 6,
   "metadata": {
    "collapsed": true
   },
   "outputs": [],
   "source": [
    "#######################################################\n",
    "#######################################################\n",
    "#######################################################\n",
    "#### PROBLEM 2\n",
    "#######################################################\n",
    "#######################################################\n",
    "#######################################################"
   ]
  },
  {
   "cell_type": "code",
   "execution_count": 7,
   "metadata": {
    "collapsed": true
   },
   "outputs": [],
   "source": [
    "def bigramCost(a, b):\n",
    "    corpus = [\"-BEGIN-\"] + 'beam me up scotty'.split()\n",
    "    if (a, b) in list(zip(corpus, corpus[1:])):\n",
    "        return 1.0\n",
    "    else:\n",
    "        return 1000.0\n",
    "\n",
    "def possibleFills(x):\n",
    "    fills = {\n",
    "        'bm'   : set(['beam', 'bam', 'boom']),\n",
    "        'm'    : set(['me', 'ma']),\n",
    "        'p'    : set(['up', 'oop', 'pa', 'epe']),\n",
    "        'sctty': set(['scotty']),\n",
    "    }\n",
    "    return fills.get(x, set())\n"
   ]
  },
  {
   "cell_type": "code",
   "execution_count": 17,
   "metadata": {},
   "outputs": [],
   "source": [
    "############################################################\n",
    "# Problem 2b: Solve the vowel insertion problem under a bigram cost\n",
    "\n",
    "class VowelInsertionProblem(SearchProblem):\n",
    "    def __init__(self, queryWords, bigramCost, possibleFills):\n",
    "        self.queryWords = queryWords\n",
    "        self.bigramCost = bigramCost\n",
    "        self.possibleFills = possibleFills\n",
    "\n",
    "    def startState(self):\n",
    "        # BEGIN_YOUR_CODE (our solution is 1 line of code, but don't worry if you deviate from this)\n",
    "        return (0, \"-BEGIN-\")\n",
    "        # END_YOUR_CODE\n",
    "\n",
    "    def isEnd(self, state):\n",
    "        # BEGIN_YOUR_CODE (our solution is 5 lines of code, but don't worry if you deviate from this)\n",
    "        return (state[0] == len(self.queryWords)) & (state != (0, \"-BEGIN-\"))\n",
    "        # END_YOUR_CODE\n",
    "\n",
    "    def succAndCost(self, state):\n",
    "        # BEGIN_YOUR_CODE (our solution is 16 lines of code, but don't worry if you deviate from this)\n",
    "        result = []\n",
    "        \n",
    "        fillset = self.possibleFills(self.queryWords[state[0]])\n",
    "        \n",
    "        for fill in fillset:\n",
    "            newState = (state[0] + 1, fill)\n",
    "            result.append((fill, newState, self.bigramCost(state[1], fill)))\n",
    "                \n",
    "        return result\n",
    "        # END_YOUR_CODE\n",
    "        \n",
    "# queryWords = input sequence of words, bigramCost = cost function, possibleFills = function that returns\n",
    "# list of possible reconstructions for a given word\n",
    "def insertVowels(queryWords, bigramCost, possibleFills):\n",
    "    # BEGIN_YOUR_CODE (our solution is 3 lines of code, but don't worry if you deviate from this)\n",
    "    if len(queryWords) == 0: \n",
    "        return \"\"\n",
    "        \n",
    "    ucs = UniformCostSearch(verbose = 1)\n",
    "    ucs.solve(VowelInsertionProblem(queryWords, bigramCost, possibleFills))\n",
    "    if ucs.actions != None:\n",
    "        return \" \".join(ucs.actions)\n",
    "    else:\n",
    "        return \" \".join(queryWords)\n",
    "    # END_YOUR_CODE"
   ]
  },
  {
   "cell_type": "code",
   "execution_count": 18,
   "metadata": {
    "collapsed": true
   },
   "outputs": [],
   "source": [
    "# ############################################################\n",
    "# # Problem 2b: Solve the vowel insertion problem under a bigram cost\n",
    "\n",
    "# class VowelInsertionProblem(SearchProblem):\n",
    "#     def __init__(self, queryWords, bigramCost, possibleFills):\n",
    "#         self.queryWords = queryWords\n",
    "#         self.bigramCost = bigramCost\n",
    "#         self.possibleFills = possibleFills\n",
    "\n",
    "#     def startState(self):\n",
    "#         # BEGIN_YOUR_CODE (our solution is 1 line of code, but don't worry if you deviate from this)\n",
    "#         return (0, \"-BEGIN-\")\n",
    "#         # END_YOUR_CODE\n",
    "\n",
    "#     def isEnd(self, state):\n",
    "#         # BEGIN_YOUR_CODE (our solution is 5 lines of code, but don't worry if you deviate from this)\n",
    "#         return (state[0] == len(self.queryWords)-1) & (state != (0, \"-BEGIN-\"))\n",
    "#         # END_YOUR_CODE\n",
    "\n",
    "#     def succAndCost(self, state):\n",
    "#         # BEGIN_YOUR_CODE (our solution is 16 lines of code, but don't worry if you deviate from this)\n",
    "#         result = []\n",
    "        \n",
    "#         for i in range(len(self.queryWords)):\n",
    "#             fillset = self.possibleFills(self.queryWords[i])\n",
    "#             if fillset == set([]): continue\n",
    "#             for fill in fillset:\n",
    "#                 newState = (state[0] + i, fill)\n",
    "#                 print newState\n",
    "#                 result.append((fill, newState, self.bigramCost(state[1], fill)))\n",
    "#                 print self.bigramCost(state[1], fill)\n",
    "\n",
    "                \n",
    "#         return result\n",
    "#         # END_YOUR_CODE\n",
    "        \n",
    "# # queryWords = input sequence of words, bigramCost = cost function, possibleFills = function that returns\n",
    "# # list of possible reconstructions for a given word\n",
    "# def insertVowels(queryWords, bigramCost, possibleFills):\n",
    "#     # BEGIN_YOUR_CODE (our solution is 3 lines of code, but don't worry if you deviate from this)\n",
    "#     if len(queryWords) == 0: \n",
    "#         return \"\"\n",
    "        \n",
    "#     ucs = UniformCostSearch(verbose = 1)\n",
    "#     ucs.solve(VowelInsertionProblem(queryWords, bigramCost, possibleFills))\n",
    "#     if ucs.actions != None:\n",
    "#         return \" \".join(ucs.actions)\n",
    "#     else:\n",
    "#         return \" \".join(queryWords)\n",
    "#     # END_YOUR_CODE"
   ]
  },
  {
   "cell_type": "code",
   "execution_count": 21,
   "metadata": {},
   "outputs": [
    {
     "name": "stdout",
     "output_type": "stream",
     "text": [
      "numStatesExplored = 4\n",
      "totalCost = 1001.0\n",
      "actions = ['me', 'up']\n"
     ]
    },
    {
     "data": {
      "text/plain": [
       "'me up'"
      ]
     },
     "execution_count": 21,
     "metadata": {},
     "output_type": "execute_result"
    }
   ],
   "source": [
    "#TEST CASES FROM GRADER.PY\n",
    "insertVowels(['m', 'p'], bigramCost, possibleFills)\n",
    "# insertVowels(['bm'], bigramCost, possibleFills)\n",
    "# insertVowels('bm m p sctty'.split(), bigramCost, possibleFills)\n",
    "# insertVowels('wld lk t hv mr lttrs'.split(), bigramCost, possibleFills)\n",
    "# insertVowels(['zz$z$zz'], bigramCost, possibleFills)\n",
    "# insertVowels([], bigramCost, possibleFills)\n"
   ]
  },
  {
   "cell_type": "code",
   "execution_count": 10,
   "metadata": {
    "collapsed": true
   },
   "outputs": [],
   "source": [
    "#######################################################\n",
    "#######################################################\n",
    "#######################################################\n",
    "###### PROBLEM 3\n",
    "#######################################################\n",
    "#######################################################\n",
    "#######################################################"
   ]
  },
  {
   "cell_type": "code",
   "execution_count": 247,
   "metadata": {
    "collapsed": true
   },
   "outputs": [],
   "source": [
    "def bigramCost(a, b):\n",
    "    if b in [\"-BEGIN-\", 'and', 'two', 'three', 'word', 'words']:\n",
    "        return 1.0\n",
    "    else:\n",
    "        return 1000.0\n",
    "\n",
    "fills_ = {\n",
    "    'nd': set(['and']),\n",
    "    'tw': set(['two']),\n",
    "    'thr': set(['three']),\n",
    "    'wrd': set(['word']),\n",
    "    'wrds': set(['words']),\n",
    "}\n",
    "fills = lambda x: fills_.get(x, set())\n",
    "possibleFills = fills"
   ]
  },
  {
   "cell_type": "code",
   "execution_count": 248,
   "metadata": {
    "collapsed": true
   },
   "outputs": [],
   "source": [
    "class JointSegmentationInsertionProblem(SearchProblem):\n",
    "    def __init__(self, query, bigramCost, possibleFills):\n",
    "        self.query = query\n",
    "        self.bigramCost = bigramCost\n",
    "        self.possibleFills = possibleFills\n",
    "\n",
    "    def startState(self):\n",
    "        # BEGIN_YOUR_CODE (our solution is 4 lines of code, but don't worry if you deviate from this)\n",
    "        return (0, \"-BEGIN-\")\n",
    "        # END_YOUR_CODE\n",
    "\n",
    "    def isEnd(self, state):\n",
    "        # BEGIN_YOUR_CODE (our solution is 4 lines of code, but don't worry if you deviate from this)\n",
    "        return (state[0] == len(self.query)) & (state != (0, \"-BEGIN-\"))\n",
    "        # END_YOUR_CODE\n",
    "\n",
    "    def succAndCost(self, state):\n",
    "        # BEGIN_YOUR_CODE (our solution is 23 lines of code, but don't worry if you deviate from this)\n",
    "        # Two moving windows to split up the word, populate vowels, and compute cost\n",
    "        result = []\n",
    "        \n",
    "        substr = self.query[state[0]:]\n",
    "        for i in range(len(substr)+1):\n",
    "            fill_set = possibleFills(substr[:i])\n",
    "            \n",
    "            if fill_set == set([]): continue\n",
    "            \n",
    "            for fill in fill_set:\n",
    "                newState = (state[0] + i, fill)\n",
    "                result.append((fill, newState, self.bigramCost(state[1], fill)))\n",
    "                \n",
    "        return result\n",
    "                    \n",
    "        # END_YOUR_CODE\n",
    "\n",
    "def segmentAndInsert(query, bigramCost, possibleFills):\n",
    "    if len(query) == 0:\n",
    "        return ''\n",
    "\n",
    "    # BEGIN_YOUR_CODE (our solution is 11 lines of code, but don't worry if you deviate from this)\n",
    "    ucs = UniformCostSearch(verbose = 1)\n",
    "    ucs.solve(JointSegmentationInsertionProblem(query, bigramCost, fills))\n",
    "    if ucs.actions != None:\n",
    "        return \" \".join(ucs.actions)\n",
    "    else:\n",
    "        return query\n",
    "    # END_YOUR_CODE\n"
   ]
  },
  {
   "cell_type": "code",
   "execution_count": 249,
   "metadata": {},
   "outputs": [
    {
     "name": "stdout",
     "output_type": "stream",
     "text": [
      "numStatesExplored = 5\n",
      "totalCost = 3.0\n",
      "actions = ['and', 'three', 'words']\n"
     ]
    },
    {
     "data": {
      "text/plain": [
       "'and three words'"
      ]
     },
     "execution_count": 249,
     "metadata": {},
     "output_type": "execute_result"
    }
   ],
   "source": [
    "# segmentAndInsert('', bigramCost, fills)\n",
    "# segmentAndInsert('wrd', bigramCost, fills)\n",
    "# segmentAndInsert('twwrds', bigramCost, fills)\n",
    "segmentAndInsert('ndthrwrds', bigramCost, fills)"
   ]
  },
  {
   "cell_type": "code",
   "execution_count": null,
   "metadata": {
    "collapsed": true
   },
   "outputs": [],
   "source": []
  }
 ],
 "metadata": {
  "kernelspec": {
   "display_name": "Python 2",
   "language": "python",
   "name": "python2"
  },
  "language_info": {
   "codemirror_mode": {
    "name": "ipython",
    "version": 2
   },
   "file_extension": ".py",
   "mimetype": "text/x-python",
   "name": "python",
   "nbconvert_exporter": "python",
   "pygments_lexer": "ipython2",
   "version": "2.7.15"
  }
 },
 "nbformat": 4,
 "nbformat_minor": 2
}
